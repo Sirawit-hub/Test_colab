{
  "nbformat": 4,
  "nbformat_minor": 0,
  "metadata": {
    "colab": {
      "name": "test_colab.ipynb",
      "provenance": [],
      "collapsed_sections": [],
      "toc_visible": true,
      "authorship_tag": "ABX9TyO2fvLkOYU0/IqyI9d+USUD",
      "include_colab_link": true
    },
    "kernelspec": {
      "name": "python3",
      "display_name": "Python 3"
    },
    "language_info": {
      "name": "python"
    }
  },
  "cells": [
    {
      "cell_type": "markdown",
      "metadata": {
        "id": "view-in-github",
        "colab_type": "text"
      },
      "source": [
        "<a href=\"https://colab.research.google.com/github/Sirawit-hub/Test_colab/blob/main/test_colab.ipynb\" target=\"_parent\"><img src=\"https://colab.research.google.com/assets/colab-badge.svg\" alt=\"Open In Colab\"/></a>"
      ]
    },
    {
      "cell_type": "code",
      "metadata": {
        "id": "yoI-3uYjFPyc"
      },
      "source": [
        "import pandas as pd\n",
        "import seaborn as sns\n",
        "import numpy as np\n",
        "import matplotlib.pyplot as plt\n",
        "%matplotlib inline\n",
        "%config InlineBackend.figure_format = 'retina'"
      ],
      "execution_count": 3,
      "outputs": []
    },
    {
      "cell_type": "code",
      "metadata": {
        "colab": {
          "base_uri": "https://localhost:8080/"
        },
        "id": "Gil4eETlHhSM",
        "outputId": "648b34b3-1331-4876-d7a6-90c987a8c78c"
      },
      "source": [
        "print(f'pandas version : {pd.__version__}')\n",
        "print(f'numpy version : {np.__version__}')\n",
        "print(f'seaborn version : {sns.__version__}')"
      ],
      "execution_count": 4,
      "outputs": [
        {
          "output_type": "stream",
          "text": [
            "pandas version : 1.1.5\n",
            "numpy version : 1.19.5\n",
            "seaborn version : 0.11.1\n"
          ],
          "name": "stdout"
        }
      ]
    },
    {
      "cell_type": "code",
      "metadata": {
        "colab": {
          "base_uri": "https://localhost:8080/",
          "height": 287
        },
        "id": "Ro0lv0R-HkP6",
        "outputId": "c1462650-3146-4c87-dd77-07ebcabe714d"
      },
      "source": [
        "url='https://raw.githubusercontent.com/TheEconomist/big-mac-data/master/output-data/big-mac-adjusted-index.csv'\n",
        "df=pd.read_csv(url, parse_dates=['date'])\n",
        "df.head()"
      ],
      "execution_count": 5,
      "outputs": [
        {
          "output_type": "execute_result",
          "data": {
            "text/html": [
              "<div>\n",
              "<style scoped>\n",
              "    .dataframe tbody tr th:only-of-type {\n",
              "        vertical-align: middle;\n",
              "    }\n",
              "\n",
              "    .dataframe tbody tr th {\n",
              "        vertical-align: top;\n",
              "    }\n",
              "\n",
              "    .dataframe thead th {\n",
              "        text-align: right;\n",
              "    }\n",
              "</style>\n",
              "<table border=\"1\" class=\"dataframe\">\n",
              "  <thead>\n",
              "    <tr style=\"text-align: right;\">\n",
              "      <th></th>\n",
              "      <th>date</th>\n",
              "      <th>iso_a3</th>\n",
              "      <th>currency_code</th>\n",
              "      <th>name</th>\n",
              "      <th>local_price</th>\n",
              "      <th>dollar_ex</th>\n",
              "      <th>dollar_price</th>\n",
              "      <th>GDP_dollar</th>\n",
              "      <th>adj_price</th>\n",
              "      <th>USD</th>\n",
              "      <th>EUR</th>\n",
              "      <th>GBP</th>\n",
              "      <th>JPY</th>\n",
              "      <th>CNY</th>\n",
              "    </tr>\n",
              "  </thead>\n",
              "  <tbody>\n",
              "    <tr>\n",
              "      <th>0</th>\n",
              "      <td>2011-07-01</td>\n",
              "      <td>ARG</td>\n",
              "      <td>ARS</td>\n",
              "      <td>Argentina</td>\n",
              "      <td>20.00</td>\n",
              "      <td>4.132500</td>\n",
              "      <td>4.839685</td>\n",
              "      <td>9138.177</td>\n",
              "      <td>3.149757</td>\n",
              "      <td>1.01089</td>\n",
              "      <td>0.47526</td>\n",
              "      <td>0.84970</td>\n",
              "      <td>0.90626</td>\n",
              "      <td>0.94622</td>\n",
              "    </tr>\n",
              "    <tr>\n",
              "      <th>1</th>\n",
              "      <td>2011-07-01</td>\n",
              "      <td>AUS</td>\n",
              "      <td>AUD</td>\n",
              "      <td>Australia</td>\n",
              "      <td>4.56</td>\n",
              "      <td>0.922382</td>\n",
              "      <td>4.943724</td>\n",
              "      <td>55589.549</td>\n",
              "      <td>5.792526</td>\n",
              "      <td>0.11695</td>\n",
              "      <td>-0.18056</td>\n",
              "      <td>0.02742</td>\n",
              "      <td>0.05883</td>\n",
              "      <td>0.08103</td>\n",
              "    </tr>\n",
              "    <tr>\n",
              "      <th>2</th>\n",
              "      <td>2011-07-01</td>\n",
              "      <td>BRA</td>\n",
              "      <td>BRL</td>\n",
              "      <td>Brazil</td>\n",
              "      <td>9.50</td>\n",
              "      <td>1.541600</td>\n",
              "      <td>6.162429</td>\n",
              "      <td>10816.487</td>\n",
              "      <td>3.245241</td>\n",
              "      <td>1.48516</td>\n",
              "      <td>0.82320</td>\n",
              "      <td>1.28595</td>\n",
              "      <td>1.35584</td>\n",
              "      <td>1.40524</td>\n",
              "    </tr>\n",
              "    <tr>\n",
              "      <th>3</th>\n",
              "      <td>2011-07-01</td>\n",
              "      <td>GBR</td>\n",
              "      <td>GBP</td>\n",
              "      <td>Britain</td>\n",
              "      <td>2.39</td>\n",
              "      <td>0.614137</td>\n",
              "      <td>3.891637</td>\n",
              "      <td>36119.846</td>\n",
              "      <td>4.684831</td>\n",
              "      <td>0.08714</td>\n",
              "      <td>-0.20243</td>\n",
              "      <td>0.00000</td>\n",
              "      <td>0.03058</td>\n",
              "      <td>0.05218</td>\n",
              "    </tr>\n",
              "    <tr>\n",
              "      <th>4</th>\n",
              "      <td>2011-07-01</td>\n",
              "      <td>CAN</td>\n",
              "      <td>CAD</td>\n",
              "      <td>Canada</td>\n",
              "      <td>4.73</td>\n",
              "      <td>0.945850</td>\n",
              "      <td>5.000793</td>\n",
              "      <td>46214.914</td>\n",
              "      <td>5.259173</td>\n",
              "      <td>0.24443</td>\n",
              "      <td>-0.08704</td>\n",
              "      <td>0.14468</td>\n",
              "      <td>0.17968</td>\n",
              "      <td>0.20441</td>\n",
              "    </tr>\n",
              "  </tbody>\n",
              "</table>\n",
              "</div>"
            ],
            "text/plain": [
              "        date iso_a3 currency_code  ...      GBP      JPY      CNY\n",
              "0 2011-07-01    ARG           ARS  ...  0.84970  0.90626  0.94622\n",
              "1 2011-07-01    AUS           AUD  ...  0.02742  0.05883  0.08103\n",
              "2 2011-07-01    BRA           BRL  ...  1.28595  1.35584  1.40524\n",
              "3 2011-07-01    GBR           GBP  ...  0.00000  0.03058  0.05218\n",
              "4 2011-07-01    CAN           CAD  ...  0.14468  0.17968  0.20441\n",
              "\n",
              "[5 rows x 14 columns]"
            ]
          },
          "metadata": {},
          "execution_count": 5
        }
      ]
    },
    {
      "cell_type": "code",
      "metadata": {
        "colab": {
          "base_uri": "https://localhost:8080/"
        },
        "id": "odAcdcmdH8kR",
        "outputId": "4eb2886c-e652-4ce1-9526-0e02ffa5476a"
      },
      "source": [
        "df.info()"
      ],
      "execution_count": 6,
      "outputs": [
        {
          "output_type": "stream",
          "text": [
            "<class 'pandas.core.frame.DataFrame'>\n",
            "RangeIndex: 812 entries, 0 to 811\n",
            "Data columns (total 14 columns):\n",
            " #   Column         Non-Null Count  Dtype         \n",
            "---  ------         --------------  -----         \n",
            " 0   date           812 non-null    datetime64[ns]\n",
            " 1   iso_a3         812 non-null    object        \n",
            " 2   currency_code  812 non-null    object        \n",
            " 3   name           812 non-null    object        \n",
            " 4   local_price    812 non-null    float64       \n",
            " 5   dollar_ex      812 non-null    float64       \n",
            " 6   dollar_price   812 non-null    float64       \n",
            " 7   GDP_dollar     812 non-null    float64       \n",
            " 8   adj_price      812 non-null    float64       \n",
            " 9   USD            812 non-null    float64       \n",
            " 10  EUR            812 non-null    float64       \n",
            " 11  GBP            812 non-null    float64       \n",
            " 12  JPY            812 non-null    float64       \n",
            " 13  CNY            812 non-null    float64       \n",
            "dtypes: datetime64[ns](1), float64(10), object(3)\n",
            "memory usage: 88.9+ KB\n"
          ],
          "name": "stdout"
        }
      ]
    },
    {
      "cell_type": "code",
      "metadata": {
        "colab": {
          "base_uri": "https://localhost:8080/",
          "height": 307
        },
        "id": "awCsSYGvI4uq",
        "outputId": "56b55321-711d-47fc-b864-ea9ff99576bd"
      },
      "source": [
        "df=df[(df['date'].dt.year==2019) & (df['date'].dt.month==1)]  #เลือกปี 2019 เดือน 1\n",
        "df.head()"
      ],
      "execution_count": 7,
      "outputs": [
        {
          "output_type": "execute_result",
          "data": {
            "text/html": [
              "<div>\n",
              "<style scoped>\n",
              "    .dataframe tbody tr th:only-of-type {\n",
              "        vertical-align: middle;\n",
              "    }\n",
              "\n",
              "    .dataframe tbody tr th {\n",
              "        vertical-align: top;\n",
              "    }\n",
              "\n",
              "    .dataframe thead th {\n",
              "        text-align: right;\n",
              "    }\n",
              "</style>\n",
              "<table border=\"1\" class=\"dataframe\">\n",
              "  <thead>\n",
              "    <tr style=\"text-align: right;\">\n",
              "      <th></th>\n",
              "      <th>date</th>\n",
              "      <th>iso_a3</th>\n",
              "      <th>currency_code</th>\n",
              "      <th>name</th>\n",
              "      <th>local_price</th>\n",
              "      <th>dollar_ex</th>\n",
              "      <th>dollar_price</th>\n",
              "      <th>GDP_dollar</th>\n",
              "      <th>adj_price</th>\n",
              "      <th>USD</th>\n",
              "      <th>EUR</th>\n",
              "      <th>GBP</th>\n",
              "      <th>JPY</th>\n",
              "      <th>CNY</th>\n",
              "    </tr>\n",
              "  </thead>\n",
              "  <tbody>\n",
              "    <tr>\n",
              "      <th>554</th>\n",
              "      <td>2019-01-01</td>\n",
              "      <td>ARG</td>\n",
              "      <td>ARS</td>\n",
              "      <td>Argentina</td>\n",
              "      <td>75.00</td>\n",
              "      <td>37.455000</td>\n",
              "      <td>2.002403</td>\n",
              "      <td>14462.920</td>\n",
              "      <td>3.165211</td>\n",
              "      <td>-0.41927</td>\n",
              "      <td>-0.43420</td>\n",
              "      <td>-0.33846</td>\n",
              "      <td>-0.26107</td>\n",
              "      <td>-0.39584</td>\n",
              "    </tr>\n",
              "    <tr>\n",
              "      <th>555</th>\n",
              "      <td>2019-01-01</td>\n",
              "      <td>AUS</td>\n",
              "      <td>AUD</td>\n",
              "      <td>Australia</td>\n",
              "      <td>6.10</td>\n",
              "      <td>1.401640</td>\n",
              "      <td>4.352045</td>\n",
              "      <td>55692.730</td>\n",
              "      <td>4.945273</td>\n",
              "      <td>-0.19215</td>\n",
              "      <td>-0.21292</td>\n",
              "      <td>-0.07974</td>\n",
              "      <td>0.02791</td>\n",
              "      <td>-0.15955</td>\n",
              "    </tr>\n",
              "    <tr>\n",
              "      <th>556</th>\n",
              "      <td>2019-01-01</td>\n",
              "      <td>BRA</td>\n",
              "      <td>BRL</td>\n",
              "      <td>Brazil</td>\n",
              "      <td>16.90</td>\n",
              "      <td>3.717950</td>\n",
              "      <td>4.545516</td>\n",
              "      <td>9895.765</td>\n",
              "      <td>2.968028</td>\n",
              "      <td>0.40586</td>\n",
              "      <td>0.36972</td>\n",
              "      <td>0.60148</td>\n",
              "      <td>0.78883</td>\n",
              "      <td>0.46259</td>\n",
              "    </tr>\n",
              "    <tr>\n",
              "      <th>557</th>\n",
              "      <td>2019-01-01</td>\n",
              "      <td>GBR</td>\n",
              "      <td>GBP</td>\n",
              "      <td>Britain</td>\n",
              "      <td>3.19</td>\n",
              "      <td>0.783208</td>\n",
              "      <td>4.072992</td>\n",
              "      <td>39800.274</td>\n",
              "      <td>4.259130</td>\n",
              "      <td>-0.12215</td>\n",
              "      <td>-0.14472</td>\n",
              "      <td>0.00000</td>\n",
              "      <td>0.11698</td>\n",
              "      <td>-0.08673</td>\n",
              "    </tr>\n",
              "    <tr>\n",
              "      <th>558</th>\n",
              "      <td>2019-01-01</td>\n",
              "      <td>CAN</td>\n",
              "      <td>CAD</td>\n",
              "      <td>Canada</td>\n",
              "      <td>6.77</td>\n",
              "      <td>1.331400</td>\n",
              "      <td>5.084873</td>\n",
              "      <td>45094.605</td>\n",
              "      <td>4.487708</td>\n",
              "      <td>0.04012</td>\n",
              "      <td>0.01338</td>\n",
              "      <td>0.18485</td>\n",
              "      <td>0.32346</td>\n",
              "      <td>0.08209</td>\n",
              "    </tr>\n",
              "  </tbody>\n",
              "</table>\n",
              "</div>"
            ],
            "text/plain": [
              "          date iso_a3 currency_code  ...      GBP      JPY      CNY\n",
              "554 2019-01-01    ARG           ARS  ... -0.33846 -0.26107 -0.39584\n",
              "555 2019-01-01    AUS           AUD  ... -0.07974  0.02791 -0.15955\n",
              "556 2019-01-01    BRA           BRL  ...  0.60148  0.78883  0.46259\n",
              "557 2019-01-01    GBR           GBP  ...  0.00000  0.11698 -0.08673\n",
              "558 2019-01-01    CAN           CAD  ...  0.18485  0.32346  0.08209\n",
              "\n",
              "[5 rows x 14 columns]"
            ]
          },
          "metadata": {},
          "execution_count": 7
        }
      ]
    },
    {
      "cell_type": "code",
      "metadata": {
        "colab": {
          "base_uri": "https://localhost:8080/",
          "height": 400
        },
        "id": "6IdtaqAhKiTJ",
        "outputId": "9009af4b-a7d1-4b02-8803-3372e3b7d252"
      },
      "source": [
        "sns.lmplot(x='GDP_dollar', y='dollar_price', data=df, ci=None) #ci คือ Confidence Interval ช่วงของค่าที่ครอบคลุมค่าพารามิเตอร์ของประชากรที่ไม่รู้ เช่น ค่าเฉลี่ยตามตัวอย่างของข้อมูลที่สุ่มจากประชากรนั้น"
      ],
      "execution_count": 8,
      "outputs": [
        {
          "output_type": "execute_result",
          "data": {
            "text/plain": [
              "<seaborn.axisgrid.FacetGrid at 0x7fabff729950>"
            ]
          },
          "metadata": {},
          "execution_count": 8
        },
        {
          "output_type": "display_data",
          "data": {
            "image/png": "[encoded data removed]",
            "text/plain": [
              "<Figure size 360x360 with 1 Axes>"
            ]
          },
          "metadata": {
            "image/png": {
              "width": 367,
              "height": 366
            },
            "needs_background": "light"
          }
        }
      ]
    }
  ]
}